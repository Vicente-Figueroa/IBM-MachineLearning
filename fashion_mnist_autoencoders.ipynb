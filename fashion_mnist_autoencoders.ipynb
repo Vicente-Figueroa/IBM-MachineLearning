{
  "nbformat": 4,
  "nbformat_minor": 0,
  "metadata": {
    "colab": {
      "name": "autoencoders",
      "provenance": [],
      "authorship_tag": "ABX9TyPVCGgLe8Fz72l6jyDsEN6N",
      "include_colab_link": true
    },
    "kernelspec": {
      "name": "python3",
      "display_name": "Python 3"
    },
    "language_info": {
      "name": "python"
    }
  },
  "cells": [
    {
      "cell_type": "markdown",
      "metadata": {
        "id": "view-in-github",
        "colab_type": "text"
      },
      "source": [
        "<a href=\"https://colab.research.google.com/github/Vicente-Figueroa/IBM-MachineLearning/blob/main/fashion_mnist_autoencoders.ipynb\" target=\"_parent\"><img src=\"https://colab.research.google.com/assets/colab-badge.svg\" alt=\"Open In Colab\"/></a>"
      ]
    },
    {
      "cell_type": "code",
      "source": [
        "# import the dataset MNIST\n",
        "from keras.datasets import mnist, cifar10, fashion_mnist\n",
        "import numpy as np\n",
        "(x_train, _), (x_test, _) = fashion_mnist.load_data()"
      ],
      "metadata": {
        "colab": {
          "base_uri": "https://localhost:8080/"
        },
        "id": "U1t0AbaTsl4L",
        "outputId": "d10e6076-e3ff-48ae-e8d1-8c313359654f"
      },
      "execution_count": 1,
      "outputs": [
        {
          "output_type": "stream",
          "name": "stdout",
          "text": [
            "Downloading data from https://storage.googleapis.com/tensorflow/tf-keras-datasets/train-labels-idx1-ubyte.gz\n",
            "32768/29515 [=================================] - 0s 0us/step\n",
            "40960/29515 [=========================================] - 0s 0us/step\n",
            "Downloading data from https://storage.googleapis.com/tensorflow/tf-keras-datasets/train-images-idx3-ubyte.gz\n",
            "26427392/26421880 [==============================] - 1s 0us/step\n",
            "26435584/26421880 [==============================] - 1s 0us/step\n",
            "Downloading data from https://storage.googleapis.com/tensorflow/tf-keras-datasets/t10k-labels-idx1-ubyte.gz\n",
            "16384/5148 [===============================================================================================] - 0s 0us/step\n",
            "Downloading data from https://storage.googleapis.com/tensorflow/tf-keras-datasets/t10k-images-idx3-ubyte.gz\n",
            "4423680/4422102 [==============================] - 0s 0us/step\n",
            "4431872/4422102 [==============================] - 0s 0us/step\n"
          ]
        }
      ]
    },
    {
      "cell_type": "code",
      "execution_count": 2,
      "metadata": {
        "id": "e9AYTzkcl4dj"
      },
      "outputs": [],
      "source": [
        "import keras\n",
        "from keras import layers\n",
        "\n",
        "# This is the size of our encoded representations\n",
        "encoding_dim = 32  # 32 floats -> compression of factor 24.5, assuming the input is 784 floats, 3072\n",
        "\n",
        "# This is our input image\n",
        "input_img = keras.Input(shape=(784,))\n",
        "# \"encoded\" is the encoded representation of the input\n",
        "encoded = layers.Dense(encoding_dim, activation='relu')(input_img)\n",
        "# \"decoded\" is the lossy reconstruction of the input\n",
        "decoded = layers.Dense(784, activation='sigmoid')(encoded)\n",
        "\n",
        "# This model maps an input to its reconstruction\n",
        "autoencoder = keras.Model(input_img, decoded)"
      ]
    },
    {
      "cell_type": "code",
      "source": [
        "# This model maps an input to its encoded representation\n",
        "encoder = keras.Model(input_img, encoded)"
      ],
      "metadata": {
        "id": "uzRlONEJmAaV"
      },
      "execution_count": 3,
      "outputs": []
    },
    {
      "cell_type": "code",
      "source": [
        "# This is our encoded (32-dimensional) input\n",
        "encoded_input = keras.Input(shape=(encoding_dim,))\n",
        "# Retrieve the last layer of the autoencoder model\n",
        "decoder_layer = autoencoder.layers[-1]\n",
        "# Create the decoder model\n",
        "decoder = keras.Model(encoded_input, decoder_layer(encoded_input))"
      ],
      "metadata": {
        "id": "UvqouyD3mEZk"
      },
      "execution_count": 4,
      "outputs": []
    },
    {
      "cell_type": "code",
      "source": [
        "autoencoder.compile(optimizer='adam', loss='binary_crossentropy')"
      ],
      "metadata": {
        "id": "elWO1Pq9skZ0"
      },
      "execution_count": 5,
      "outputs": []
    },
    {
      "cell_type": "code",
      "source": [
        "x_train = x_train.astype('float32') / 255.\n",
        "x_test = x_test.astype('float32') / 255.\n",
        "x_train = x_train.reshape((len(x_train), np.prod(x_train.shape[1:])))\n",
        "x_test = x_test.reshape((len(x_test), np.prod(x_test.shape[1:])))\n",
        "print(x_train.shape)\n",
        "print(x_test.shape)"
      ],
      "metadata": {
        "colab": {
          "base_uri": "https://localhost:8080/"
        },
        "id": "6R1MZNOhsoL7",
        "outputId": "101c684d-9ef6-4db2-c1e7-b89bc11ffb05"
      },
      "execution_count": 6,
      "outputs": [
        {
          "output_type": "stream",
          "name": "stdout",
          "text": [
            "(60000, 784)\n",
            "(10000, 784)\n"
          ]
        }
      ]
    },
    {
      "cell_type": "code",
      "source": [
        "autoencoder.fit(x_train, x_train,\n",
        "                epochs=50,\n",
        "                batch_size=256,\n",
        "                shuffle=True,\n",
        "                validation_data=(x_test, x_test))"
      ],
      "metadata": {
        "colab": {
          "base_uri": "https://localhost:8080/"
        },
        "id": "N3OHzfFcwOjC",
        "outputId": "2f35101a-b0b8-4b52-c0af-2cc08cf689e2"
      },
      "execution_count": 7,
      "outputs": [
        {
          "output_type": "stream",
          "name": "stdout",
          "text": [
            "Epoch 1/50\n",
            "235/235 [==============================] - 10s 32ms/step - loss: 0.4140 - val_loss: 0.3420\n",
            "Epoch 2/50\n",
            "235/235 [==============================] - 5s 23ms/step - loss: 0.3272 - val_loss: 0.3201\n",
            "Epoch 3/50\n",
            "235/235 [==============================] - 5s 20ms/step - loss: 0.3120 - val_loss: 0.3086\n",
            "Epoch 4/50\n",
            "235/235 [==============================] - 3s 13ms/step - loss: 0.3023 - val_loss: 0.3012\n",
            "Epoch 5/50\n",
            "235/235 [==============================] - 3s 13ms/step - loss: 0.2959 - val_loss: 0.2955\n",
            "Epoch 6/50\n",
            "235/235 [==============================] - 3s 13ms/step - loss: 0.2918 - val_loss: 0.2923\n",
            "Epoch 7/50\n",
            "235/235 [==============================] - 3s 14ms/step - loss: 0.2891 - val_loss: 0.2904\n",
            "Epoch 8/50\n",
            "235/235 [==============================] - 3s 13ms/step - loss: 0.2873 - val_loss: 0.2888\n",
            "Epoch 9/50\n",
            "235/235 [==============================] - 3s 14ms/step - loss: 0.2862 - val_loss: 0.2879\n",
            "Epoch 10/50\n",
            "235/235 [==============================] - 3s 14ms/step - loss: 0.2854 - val_loss: 0.2874\n",
            "Epoch 11/50\n",
            "235/235 [==============================] - 3s 14ms/step - loss: 0.2849 - val_loss: 0.2869\n",
            "Epoch 12/50\n",
            "235/235 [==============================] - 3s 15ms/step - loss: 0.2845 - val_loss: 0.2867\n",
            "Epoch 13/50\n",
            "235/235 [==============================] - 3s 15ms/step - loss: 0.2841 - val_loss: 0.2862\n",
            "Epoch 14/50\n",
            "235/235 [==============================] - 3s 14ms/step - loss: 0.2839 - val_loss: 0.2862\n",
            "Epoch 15/50\n",
            "235/235 [==============================] - 3s 14ms/step - loss: 0.2836 - val_loss: 0.2859\n",
            "Epoch 16/50\n",
            "235/235 [==============================] - 3s 15ms/step - loss: 0.2834 - val_loss: 0.2857\n",
            "Epoch 17/50\n",
            "235/235 [==============================] - 3s 14ms/step - loss: 0.2833 - val_loss: 0.2855\n",
            "Epoch 18/50\n",
            "235/235 [==============================] - 3s 14ms/step - loss: 0.2831 - val_loss: 0.2854\n",
            "Epoch 19/50\n",
            "235/235 [==============================] - 3s 14ms/step - loss: 0.2830 - val_loss: 0.2853\n",
            "Epoch 20/50\n",
            "235/235 [==============================] - 3s 14ms/step - loss: 0.2829 - val_loss: 0.2852\n",
            "Epoch 21/50\n",
            "235/235 [==============================] - 3s 14ms/step - loss: 0.2828 - val_loss: 0.2851\n",
            "Epoch 22/50\n",
            "235/235 [==============================] - 3s 15ms/step - loss: 0.2827 - val_loss: 0.2853\n",
            "Epoch 23/50\n",
            "235/235 [==============================] - 3s 14ms/step - loss: 0.2826 - val_loss: 0.2849\n",
            "Epoch 24/50\n",
            "235/235 [==============================] - 3s 14ms/step - loss: 0.2825 - val_loss: 0.2849\n",
            "Epoch 25/50\n",
            "235/235 [==============================] - 3s 14ms/step - loss: 0.2824 - val_loss: 0.2848\n",
            "Epoch 26/50\n",
            "235/235 [==============================] - 3s 14ms/step - loss: 0.2824 - val_loss: 0.2847\n",
            "Epoch 27/50\n",
            "235/235 [==============================] - 3s 14ms/step - loss: 0.2823 - val_loss: 0.2847\n",
            "Epoch 28/50\n",
            "235/235 [==============================] - 4s 19ms/step - loss: 0.2822 - val_loss: 0.2848\n",
            "Epoch 29/50\n",
            "235/235 [==============================] - 3s 14ms/step - loss: 0.2822 - val_loss: 0.2846\n",
            "Epoch 30/50\n",
            "235/235 [==============================] - 3s 14ms/step - loss: 0.2821 - val_loss: 0.2845\n",
            "Epoch 31/50\n",
            "235/235 [==============================] - 3s 14ms/step - loss: 0.2821 - val_loss: 0.2845\n",
            "Epoch 32/50\n",
            "235/235 [==============================] - 3s 14ms/step - loss: 0.2820 - val_loss: 0.2844\n",
            "Epoch 33/50\n",
            "235/235 [==============================] - 3s 14ms/step - loss: 0.2820 - val_loss: 0.2844\n",
            "Epoch 34/50\n",
            "235/235 [==============================] - 3s 14ms/step - loss: 0.2819 - val_loss: 0.2844\n",
            "Epoch 35/50\n",
            "235/235 [==============================] - 3s 14ms/step - loss: 0.2819 - val_loss: 0.2844\n",
            "Epoch 36/50\n",
            "235/235 [==============================] - 3s 14ms/step - loss: 0.2819 - val_loss: 0.2843\n",
            "Epoch 37/50\n",
            "235/235 [==============================] - 3s 14ms/step - loss: 0.2818 - val_loss: 0.2843\n",
            "Epoch 38/50\n",
            "235/235 [==============================] - 3s 14ms/step - loss: 0.2818 - val_loss: 0.2842\n",
            "Epoch 39/50\n",
            "235/235 [==============================] - 3s 14ms/step - loss: 0.2818 - val_loss: 0.2843\n",
            "Epoch 40/50\n",
            "235/235 [==============================] - 3s 14ms/step - loss: 0.2818 - val_loss: 0.2842\n",
            "Epoch 41/50\n",
            "235/235 [==============================] - 3s 14ms/step - loss: 0.2817 - val_loss: 0.2842\n",
            "Epoch 42/50\n",
            "235/235 [==============================] - 3s 14ms/step - loss: 0.2817 - val_loss: 0.2842\n",
            "Epoch 43/50\n",
            "235/235 [==============================] - 3s 14ms/step - loss: 0.2817 - val_loss: 0.2841\n",
            "Epoch 44/50\n",
            "235/235 [==============================] - 3s 14ms/step - loss: 0.2817 - val_loss: 0.2840\n",
            "Epoch 45/50\n",
            "235/235 [==============================] - 3s 14ms/step - loss: 0.2816 - val_loss: 0.2841\n",
            "Epoch 46/50\n",
            "235/235 [==============================] - 3s 14ms/step - loss: 0.2816 - val_loss: 0.2841\n",
            "Epoch 47/50\n",
            "235/235 [==============================] - 3s 13ms/step - loss: 0.2816 - val_loss: 0.2841\n",
            "Epoch 48/50\n",
            "235/235 [==============================] - 3s 13ms/step - loss: 0.2816 - val_loss: 0.2841\n",
            "Epoch 49/50\n",
            "235/235 [==============================] - 3s 13ms/step - loss: 0.2816 - val_loss: 0.2840\n",
            "Epoch 50/50\n",
            "235/235 [==============================] - 3s 13ms/step - loss: 0.2815 - val_loss: 0.2840\n"
          ]
        },
        {
          "output_type": "execute_result",
          "data": {
            "text/plain": [
              "<keras.callbacks.History at 0x7fc3a9b74650>"
            ]
          },
          "metadata": {},
          "execution_count": 7
        }
      ]
    },
    {
      "cell_type": "code",
      "source": [
        "# Encode and decode some digits\n",
        "# Note that we take them from the *test* set\n",
        "encoded_imgs = encoder.predict(x_test)\n",
        "decoded_imgs = decoder.predict(encoded_imgs)"
      ],
      "metadata": {
        "id": "U2gGFkS3wRTz"
      },
      "execution_count": 8,
      "outputs": []
    },
    {
      "cell_type": "code",
      "source": [
        "# Use Matplotlib (don't ask)\n",
        "import matplotlib.pyplot as plt\n",
        "\n",
        "n = 10  # How many digits we will display\n",
        "plt.figure(figsize=(20, 4))\n",
        "for i in range(n):\n",
        "    # Display original\n",
        "    ax = plt.subplot(2, n, i + 1)\n",
        "    plt.imshow(x_test[i].reshape(28, 28))\n",
        "    plt.gray()\n",
        "    ax.get_xaxis().set_visible(False)\n",
        "    ax.get_yaxis().set_visible(False)\n",
        "\n",
        "    # Display reconstruction\n",
        "    ax = plt.subplot(2, n, i + 1 + n)\n",
        "    plt.imshow(decoded_imgs[i].reshape(28, 28))\n",
        "    plt.gray()\n",
        "    ax.get_xaxis().set_visible(False)\n",
        "    ax.get_yaxis().set_visible(False)\n",
        "plt.show()"
      ],
      "metadata": {
        "colab": {
          "base_uri": "https://localhost:8080/",
          "height": 248
        },
        "id": "C2q1mHMnwTEc",
        "outputId": "74961245-5445-4ed9-eb96-10efeae8d7e0"
      },
      "execution_count": 9,
      "outputs": [
        {
          "output_type": "display_data",
          "data": {
            "text/plain": [
              "<Figure size 1440x288 with 20 Axes>"
            ],
            "image/png": "[encoded data removed]"
          },
          "metadata": {
            "needs_background": "light"
          }
        }
      ]
    }
  ]
}