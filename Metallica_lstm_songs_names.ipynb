{
  "nbformat": 4,
  "nbformat_minor": 0,
  "metadata": {
    "colab": {
      "name": "Metallica lstm songs names",
      "provenance": [],
      "authorship_tag": "ABX9TyP57N4Vt0QaRp+yJvIZfYmj",
      "include_colab_link": true
    },
    "kernelspec": {
      "name": "python3",
      "display_name": "Python 3"
    },
    "language_info": {
      "name": "python"
    }
  },
  "cells": [
    {
      "cell_type": "markdown",
      "metadata": {
        "id": "view-in-github",
        "colab_type": "text"
      },
      "source": [
        "<a href=\"https://colab.research.google.com/github/Vicente-Figueroa/IBM-MachineLearning/blob/main/Metallica_lstm_songs_names.ipynb\" target=\"_parent\"><img src=\"https://colab.research.google.com/assets/colab-badge.svg\" alt=\"Open In Colab\"/></a>"
      ]
    },
    {
      "cell_type": "markdown",
      "source": [
        "# Metallica song's name genetaror\n",
        "### Objective:\n",
        "The purpose of this work is to create a LSTM neural net to preview a workload of data scientist"
      ],
      "metadata": {
        "id": "3yP-pccH75UG"
      }
    },
    {
      "cell_type": "code",
      "source": [
        "# import libraries\n",
        "import pandas as pd\n",
        "import numpy as np\n",
        "import tensorflow as tf\n",
        "import time\n",
        "from tensorflow.keras.models import Sequential\n",
        "from tensorflow.keras.layers import Dense\n",
        "from tensorflow.keras.layers import LSTM\n",
        "from tensorflow.keras.optimizers import RMSprop\n",
        "import numpy as np\n",
        "import random\n",
        "import os"
      ],
      "metadata": {
        "id": "KyfjnBmM73vv"
      },
      "execution_count": null,
      "outputs": []
    },
    {
      "cell_type": "code",
      "source": [
        "step_length = 1 # The step length we take to get our samples from our corpus\n",
        "epochs = 50 # Number of times we train on our full data  50\n",
        "batch_size = 32 # Data samples in each training step\n",
        "latent_dim = 64 # Size of our LSTM\n",
        "dropout_rate = 0.2 # Regularization with dropout\n",
        "model_path = os.path.realpath('./metallica_gen_model.h5') # Location for the model\n",
        "load_model = False # Enable loading model from disk\n",
        "store_model = True # Store model to disk after training\n",
        "verbosity = 1 # Print result for each epoch\n",
        "gen_amount = 10 # How many"
      ],
      "metadata": {
        "id": "N3zzB4QT_MK7"
      },
      "execution_count": null,
      "outputs": []
    },
    {
      "cell_type": "code",
      "execution_count": null,
      "metadata": {
        "id": "a_wzJfIF6sXg"
      },
      "outputs": [],
      "source": [
        "df= pd.read_csv('metallica.csv', header=None, sep='\\t')\n",
        "\n",
        "input_names = df[0]"
      ]
    },
    {
      "cell_type": "code",
      "source": [
        "# Make it all to a long string\n",
        "concat_names = '\\n'.join(input_names).lower()\n",
        "\n",
        "# Find all unique characters by using set()\n",
        "chars = sorted(list(set(concat_names)))\n",
        "num_chars = len(chars)\n",
        "\n",
        "# Build translation dictionaries, 'a' -> 0, 0 -> 'a'\n",
        "char2idx = dict((c, i) for i, c in enumerate(chars))\n",
        "idx2char = dict((i, c) for i, c in enumerate(chars))\n",
        "\n",
        "\n",
        "# Use longest name length as our sequence window\n",
        "max_sequence_length = max([len(name) for name in input_names])\n",
        "\n",
        "print('Total chars: {}'.format(num_chars))\n",
        "print('Corpus length:', len(concat_names))\n",
        "print('Number of names: ', len(input_names))\n",
        "print('Longest name: ', max_sequence_length)"
      ],
      "metadata": {
        "colab": {
          "base_uri": "https://localhost:8080/"
        },
        "id": "uOJiUnXA95zI",
        "outputId": "9e18de93-57f3-43a9-e4a0-2fa9214e06d5"
      },
      "execution_count": null,
      "outputs": [
        {
          "output_type": "stream",
          "name": "stdout",
          "text": [
            "Total chars: 43\n",
            "Corpus length: 3236\n",
            "Number of names:  206\n",
            "Longest name:  35\n"
          ]
        }
      ]
    },
    {
      "cell_type": "code",
      "source": [
        "sequences = []\n",
        "next_chars = []\n",
        "\n",
        "# Loop over our data and extract pairs of sequances and next chars\n",
        "for i in range(0, len(concat_names) - max_sequence_length, step_length):\n",
        "    sequences.append(concat_names[i: i + max_sequence_length])\n",
        "    next_chars.append(concat_names[i + max_sequence_length])\n",
        "\n",
        "num_sequences = len(sequences)\n",
        "\n",
        "print('Number of sequences:', num_sequences)\n",
        "print('First 10 sequences and next chars:')\n",
        "for i in range(10):\n",
        "    print('X=[{}] y=[{}]'.replace('\\n', ' ').format(sequences[i], next_chars[i]).replace('\\n', ' '))"
      ],
      "metadata": {
        "colab": {
          "base_uri": "https://localhost:8080/"
        },
        "id": "Lm7-iu44_wWP",
        "outputId": "5b021009-4283-4481-b727-40b7444bc173"
      },
      "execution_count": null,
      "outputs": [
        {
          "output_type": "stream",
          "name": "stdout",
          "text": [
            "Number of sequences: 3201\n",
            "First 10 sequences and next chars:\n",
            "X=[2 x 4 53rd & 3rd ain't my bitch all] y=[ ]\n",
            "X=[ x 4 53rd & 3rd ain't my bitch all ] y=[d]\n",
            "X=[x 4 53rd & 3rd ain't my bitch all d] y=[a]\n",
            "X=[ 4 53rd & 3rd ain't my bitch all da] y=[y]\n",
            "X=[4 53rd & 3rd ain't my bitch all day] y=[ ]\n",
            "X=[ 53rd & 3rd ain't my bitch all day ] y=[a]\n",
            "X=[53rd & 3rd ain't my bitch all day a] y=[n]\n",
            "X=[3rd & 3rd ain't my bitch all day an] y=[d]\n",
            "X=[rd & 3rd ain't my bitch all day and] y=[ ]\n",
            "X=[d & 3rd ain't my bitch all day and ] y=[a]\n"
          ]
        }
      ]
    },
    {
      "cell_type": "code",
      "source": [
        "X = np.zeros((num_sequences, max_sequence_length, num_chars), dtype=np.bool)\n",
        "Y = np.zeros((num_sequences, num_chars), dtype=np.bool)\n",
        "\n",
        "for i, sequence in enumerate(sequences):\n",
        "    for j, char in enumerate(sequence):\n",
        "        X[i, j, char2idx[char]] = 1\n",
        "        Y[i, char2idx[next_chars[i]]] = 1\n",
        "\n",
        "print('X shape: {}'.format(X.shape))\n",
        "print('Y shape: {}'.format(Y.shape))"
      ],
      "metadata": {
        "colab": {
          "base_uri": "https://localhost:8080/"
        },
        "id": "-j7ktVv5_-J-",
        "outputId": "b8392ae7-9162-4157-f5ac-2a152f38cb3a"
      },
      "execution_count": null,
      "outputs": [
        {
          "output_type": "stream",
          "name": "stdout",
          "text": [
            "X shape: (3201, 35, 43)\n",
            "Y shape: (3201, 43)\n"
          ]
        },
        {
          "output_type": "stream",
          "name": "stderr",
          "text": [
            "/usr/local/lib/python3.7/dist-packages/ipykernel_launcher.py:1: DeprecationWarning: `np.bool` is a deprecated alias for the builtin `bool`. To silence this warning, use `bool` by itself. Doing this will not modify any behavior and is safe. If you specifically wanted the numpy scalar type, use `np.bool_` here.\n",
            "Deprecated in NumPy 1.20; for more details and guidance: https://numpy.org/devdocs/release/1.20.0-notes.html#deprecations\n",
            "  \"\"\"Entry point for launching an IPython kernel.\n",
            "/usr/local/lib/python3.7/dist-packages/ipykernel_launcher.py:2: DeprecationWarning: `np.bool` is a deprecated alias for the builtin `bool`. To silence this warning, use `bool` by itself. Doing this will not modify any behavior and is safe. If you specifically wanted the numpy scalar type, use `np.bool_` here.\n",
            "Deprecated in NumPy 1.20; for more details and guidance: https://numpy.org/devdocs/release/1.20.0-notes.html#deprecations\n",
            "  \n"
          ]
        }
      ]
    },
    {
      "cell_type": "code",
      "source": [
        "# making the NN\n",
        "model = Sequential()\n",
        "\n",
        "# Add the LSTM layer \n",
        "model.add(LSTM(latent_dim,\n",
        "               input_shape=(max_sequence_length, num_chars),\n",
        "               recurrent_dropout=dropout_rate))\n",
        "\n",
        "# Output layer dense and softmax activation\n",
        "model.add(Dense(units=num_chars, activation='softmax'))\n",
        "\n",
        "# Optmizer in RMS\n",
        "optimizer = RMSprop(lr=0.01)\n",
        "model.compile(loss='categorical_crossentropy',\n",
        "              optimizer=optimizer)\n",
        "\n",
        "model.summary()"
      ],
      "metadata": {
        "colab": {
          "base_uri": "https://localhost:8080/"
        },
        "id": "ejES2vJPAG_m",
        "outputId": "d1d8c139-25d8-4145-b4fd-4916198f98b5"
      },
      "execution_count": null,
      "outputs": [
        {
          "output_type": "stream",
          "name": "stdout",
          "text": [
            "Model: \"sequential\"\n",
            "_________________________________________________________________\n",
            " Layer (type)                Output Shape              Param #   \n",
            "=================================================================\n",
            " lstm (LSTM)                 (None, 64)                27648     \n",
            "                                                                 \n",
            " dense (Dense)               (None, 43)                2795      \n",
            "                                                                 \n",
            "=================================================================\n",
            "Total params: 30,443\n",
            "Trainable params: 30,443\n",
            "Non-trainable params: 0\n",
            "_________________________________________________________________\n"
          ]
        },
        {
          "output_type": "stream",
          "name": "stderr",
          "text": [
            "/usr/local/lib/python3.7/dist-packages/keras/optimizer_v2/rmsprop.py:130: UserWarning: The `lr` argument is deprecated, use `learning_rate` instead.\n",
            "  super(RMSprop, self).__init__(name, **kwargs)\n"
          ]
        }
      ]
    },
    {
      "cell_type": "code",
      "source": [
        "if load_model:\n",
        "    model.load_weights(model_path)\n",
        "else:\n",
        "    start = time.time()\n",
        "    print('Start training for {} epochs'.format(epochs))\n",
        "    history = model.fit(X, Y, epochs=epochs, batch_size=batch_size, verbose=verbosity)\n",
        "    end = time.time()\n",
        "    print('Finished training - time elapsed:', (end - start)/60, 'min')\n",
        "if store_model:\n",
        "    print('Storing model at:', model_path)\n",
        "    model.save(model_path)"
      ],
      "metadata": {
        "colab": {
          "base_uri": "https://localhost:8080/"
        },
        "id": "4DcgQ6Q2AcTO",
        "outputId": "598edcab-7d08-4830-b50f-5c121359d107"
      },
      "execution_count": null,
      "outputs": [
        {
          "output_type": "stream",
          "name": "stdout",
          "text": [
            "Start training for 50 epochs\n",
            "Epoch 1/50\n",
            "101/101 [==============================] - 12s 81ms/step - loss: 2.9713\n",
            "Epoch 2/50\n",
            "101/101 [==============================] - 7s 69ms/step - loss: 2.5909\n",
            "Epoch 3/50\n",
            "101/101 [==============================] - 4s 38ms/step - loss: 2.4254\n",
            "Epoch 4/50\n",
            "101/101 [==============================] - 4s 38ms/step - loss: 2.3238\n",
            "Epoch 5/50\n",
            "101/101 [==============================] - 4s 38ms/step - loss: 2.2185\n",
            "Epoch 6/50\n",
            "101/101 [==============================] - 4s 38ms/step - loss: 2.1391\n",
            "Epoch 7/50\n",
            "101/101 [==============================] - 4s 38ms/step - loss: 2.0415\n",
            "Epoch 8/50\n",
            "101/101 [==============================] - 4s 38ms/step - loss: 1.9677\n",
            "Epoch 9/50\n",
            "101/101 [==============================] - 4s 38ms/step - loss: 1.8974\n",
            "Epoch 10/50\n",
            "101/101 [==============================] - 4s 38ms/step - loss: 1.8187\n",
            "Epoch 11/50\n",
            "101/101 [==============================] - 4s 37ms/step - loss: 1.7819\n",
            "Epoch 12/50\n",
            "101/101 [==============================] - 4s 38ms/step - loss: 1.6964\n",
            "Epoch 13/50\n",
            "101/101 [==============================] - 4s 38ms/step - loss: 1.6587\n",
            "Epoch 14/50\n",
            "101/101 [==============================] - 4s 37ms/step - loss: 1.5966\n",
            "Epoch 15/50\n",
            "101/101 [==============================] - 4s 38ms/step - loss: 1.5622\n",
            "Epoch 16/50\n",
            "101/101 [==============================] - 4s 38ms/step - loss: 1.5064\n",
            "Epoch 17/50\n",
            "101/101 [==============================] - 4s 39ms/step - loss: 1.4811\n",
            "Epoch 18/50\n",
            "101/101 [==============================] - 4s 38ms/step - loss: 1.4462\n",
            "Epoch 19/50\n",
            "101/101 [==============================] - 4s 38ms/step - loss: 1.3889\n",
            "Epoch 20/50\n",
            "101/101 [==============================] - 4s 38ms/step - loss: 1.3683\n",
            "Epoch 21/50\n",
            "101/101 [==============================] - 4s 38ms/step - loss: 1.3375\n",
            "Epoch 22/50\n",
            "101/101 [==============================] - 4s 42ms/step - loss: 1.3172\n",
            "Epoch 23/50\n",
            "101/101 [==============================] - 4s 38ms/step - loss: 1.2629\n",
            "Epoch 24/50\n",
            "101/101 [==============================] - 4s 38ms/step - loss: 1.2356\n",
            "Epoch 25/50\n",
            "101/101 [==============================] - 4s 41ms/step - loss: 1.2386\n",
            "Epoch 26/50\n",
            "101/101 [==============================] - 4s 38ms/step - loss: 1.2255\n",
            "Epoch 27/50\n",
            "101/101 [==============================] - 4s 38ms/step - loss: 1.1822\n",
            "Epoch 28/50\n",
            "101/101 [==============================] - 4s 39ms/step - loss: 1.1825\n",
            "Epoch 29/50\n",
            "101/101 [==============================] - 4s 38ms/step - loss: 1.1449\n",
            "Epoch 30/50\n",
            "101/101 [==============================] - 4s 38ms/step - loss: 1.1193\n",
            "Epoch 31/50\n",
            "101/101 [==============================] - 4s 38ms/step - loss: 1.0998\n",
            "Epoch 32/50\n",
            "101/101 [==============================] - 4s 38ms/step - loss: 1.0789\n",
            "Epoch 33/50\n",
            "101/101 [==============================] - 4s 38ms/step - loss: 1.0614\n",
            "Epoch 34/50\n",
            "101/101 [==============================] - 4s 38ms/step - loss: 1.0804\n",
            "Epoch 35/50\n",
            "101/101 [==============================] - 4s 38ms/step - loss: 1.0402\n",
            "Epoch 36/50\n",
            "101/101 [==============================] - 4s 38ms/step - loss: 1.0416\n",
            "Epoch 37/50\n",
            "101/101 [==============================] - 4s 38ms/step - loss: 1.0066\n",
            "Epoch 38/50\n",
            "101/101 [==============================] - 4s 44ms/step - loss: 1.0106\n",
            "Epoch 39/50\n",
            "101/101 [==============================] - 4s 38ms/step - loss: 0.9872\n",
            "Epoch 40/50\n",
            "101/101 [==============================] - 4s 38ms/step - loss: 0.9633\n",
            "Epoch 41/50\n",
            "101/101 [==============================] - 4s 38ms/step - loss: 0.9696\n",
            "Epoch 42/50\n",
            "101/101 [==============================] - 4s 38ms/step - loss: 0.9192\n",
            "Epoch 43/50\n",
            "101/101 [==============================] - 4s 38ms/step - loss: 0.9359\n",
            "Epoch 44/50\n",
            "101/101 [==============================] - 4s 38ms/step - loss: 0.8927\n",
            "Epoch 45/50\n",
            "101/101 [==============================] - 4s 38ms/step - loss: 0.9139\n",
            "Epoch 46/50\n",
            "101/101 [==============================] - 4s 38ms/step - loss: 0.9267\n",
            "Epoch 47/50\n",
            "101/101 [==============================] - 4s 38ms/step - loss: 0.8953\n",
            "Epoch 48/50\n",
            "101/101 [==============================] - 4s 38ms/step - loss: 0.9001\n",
            "Epoch 49/50\n",
            "101/101 [==============================] - 4s 38ms/step - loss: 0.8650\n",
            "Epoch 50/50\n",
            "101/101 [==============================] - 4s 38ms/step - loss: 0.8642\n",
            "Finished training - time elapsed: 3.436094625790914 min\n",
            "Storing model at: /content/metallica_gen_model.h5\n"
          ]
        }
      ]
    },
    {
      "cell_type": "code",
      "source": [
        "# Start sequence generation from end of the input sequence\n",
        "sequence = concat_names[-(max_sequence_length - 1):] + '\\n'\n",
        "\n",
        "new_names = []\n",
        "print('{} new names are being generated'.format(gen_amount))\n",
        "\n",
        "while len(new_names) < gen_amount:\n",
        "    # Vectorize sequence for prediction\n",
        "    x = np.zeros((1, max_sequence_length, num_chars))\n",
        "    for i, char in enumerate(sequence):\n",
        "        x[0, i, char2idx[char]] = 1\n",
        "\n",
        "    # Sample next char from predicted probabilities\n",
        "    probs = model.predict(x, verbose=0)[0]\n",
        "    probs /= probs.sum()\n",
        "    next_idx = np.random.choice(len(probs), p=probs)\n",
        "    next_char = idx2char[next_idx]\n",
        "    sequence = sequence[1:] + next_char\n",
        "\n",
        "    # New line means we have a new name\n",
        "    if next_char == '\\n':\n",
        "        gen_name = [name for name in sequence.split('\\n')][1]\n",
        "        \n",
        "        # Never start name with two identical chars, could probably also\n",
        "        if len(gen_name) > 2 and gen_name[0] == gen_name[1]:\n",
        "            gen_name = gen_name[1:]\n",
        "        \n",
        "        # Discard all names that are too short\n",
        "        if len(gen_name) > 2:\n",
        "            # Only allow new and unique names\n",
        "            if gen_name not in np.concatenate((input_names, new_names), axis=0):\n",
        "                new_names.append(gen_name.capitalize())\n",
        "        \n",
        "        if 0 == (len(new_names) % (gen_amount/ 10)):\n",
        "            print('Generated {}'.format(len(new_names)))"
      ],
      "metadata": {
        "colab": {
          "base_uri": "https://localhost:8080/"
        },
        "id": "1fxU_C7IAyXv",
        "outputId": "a4875a84-1288-4177-db2a-b58fb226cbd6"
      },
      "execution_count": null,
      "outputs": [
        {
          "output_type": "stream",
          "name": "stdout",
          "text": [
            "10 new names are being generated\n",
            "Generated 1\n",
            "Generated 2\n",
            "Generated 3\n",
            "Generated 4\n",
            "Generated 5\n",
            "Generated 6\n",
            "Generated 7\n",
            "Generated 8\n",
            "Generated 9\n",
            "Generated 10\n"
          ]
        }
      ]
    },
    {
      "cell_type": "code",
      "source": [
        "print_first_n = min(10, gen_amount)\n",
        "print('First {} generated names:'.format(print_first_n))\n",
        "for name in new_names[:print_first_n]:\n",
        "    print(name)"
      ],
      "metadata": {
        "colab": {
          "base_uri": "https://localhost:8080/"
        },
        "id": "HacPun6iA8Dv",
        "outputId": "959e6fee-f313-46f5-fd61-91d5ff767233"
      },
      "execution_count": null,
      "outputs": [
        {
          "output_type": "stream",
          "name": "stdout",
          "text": [
            "First 10 generated names:\n",
            "Would?\n",
            "Diance\n",
            "Diem i see\n",
            "Moners in the bone\n",
            "My vmanos\n",
            "My vmanos\n",
            "Homors of the nigst\n",
            "Whings jast cait\n",
            "Whings jast cait\n",
            "Wasting case\n"
          ]
        }
      ]
    }
  ]
}